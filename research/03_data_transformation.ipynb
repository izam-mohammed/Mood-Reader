{
 "cells": [
  {
   "cell_type": "code",
   "execution_count": 1,
   "metadata": {},
   "outputs": [
    {
     "data": {
      "text/plain": [
       "'/home/izam/coding/Sentiment-Analysis/research'"
      ]
     },
     "execution_count": 1,
     "metadata": {},
     "output_type": "execute_result"
    }
   ],
   "source": [
    "import os\n",
    "%pwd"
   ]
  },
  {
   "cell_type": "code",
   "execution_count": 2,
   "metadata": {},
   "outputs": [
    {
     "data": {
      "text/plain": [
       "'/home/izam/coding/Sentiment-Analysis'"
      ]
     },
     "execution_count": 2,
     "metadata": {},
     "output_type": "execute_result"
    }
   ],
   "source": [
    "os.chdir('../')\n",
    "%pwd"
   ]
  },
  {
   "cell_type": "code",
   "execution_count": 3,
   "metadata": {},
   "outputs": [],
   "source": [
    "from dataclasses import dataclass\n",
    "from pathlib import Path\n",
    "\n",
    "# enitity\n",
    "@dataclass(frozen=True)\n",
    "class DataTransformationConfig:\n",
    "    root_dir: Path\n",
    "    data_path: Path\n",
    "    delimiter: str\n",
    "    text_corpus_name: str\n",
    "    target_col_encoded_file: str\n",
    "    vectorizer_name: str\n",
    "    vocabulary_name: str\n",
    "    test_size: float"
   ]
  },
  {
   "cell_type": "code",
   "execution_count": 4,
   "metadata": {},
   "outputs": [],
   "source": [
    "from sentimentAnalysis.constants import *\n",
    "from sentimentAnalysis.utils.common import read_yaml, create_directories"
   ]
  },
  {
   "cell_type": "code",
   "execution_count": 5,
   "metadata": {},
   "outputs": [],
   "source": [
    "# configuration\n",
    "class ConfigurationManager:\n",
    "    def __init__(\n",
    "        self,\n",
    "        config_filepath = CONFIG_FILE_PATH,\n",
    "        params_filepath = PARAMS_FILE_PATH,\n",
    "        schema_filepath = SCHEMA_FILE_PATH):\n",
    "\n",
    "        self.config = read_yaml(config_filepath)\n",
    "        self.params = read_yaml(params_filepath)\n",
    "        self.schema = read_yaml(schema_filepath)\n",
    "\n",
    "        create_directories([self.config.artifacts_root])\n",
    "\n",
    "\n",
    "    \n",
    "    def get_data_transformation_config(self) -> DataTransformationConfig:\n",
    "        config = self.config.data_transformation\n",
    "\n",
    "        create_directories([config.root_dir])\n",
    "\n",
    "        data_transformation_config = DataTransformationConfig(\n",
    "            root_dir=config.root_dir,\n",
    "            data_path=config.data_path,\n",
    "            delimiter=self.schema.DELIMITER,\n",
    "            text_corpus_name=config.text_corpus_name,\n",
    "            target_col_encoded_file=config.target_col_encoded_file,\n",
    "            vectorizer_name=config.vectorizer_name,\n",
    "            vocabulary_name=config.vocabulary_name,\n",
    "            test_size=config.test_size,\n",
    "        )\n",
    "\n",
    "        return data_transformation_config"
   ]
  },
  {
   "cell_type": "code",
   "execution_count": 6,
   "metadata": {},
   "outputs": [],
   "source": [
    "import os\n",
    "from sentimentAnalysis import logger\n",
    "from sklearn.model_selection import train_test_split\n",
    "import pandas as pd\n",
    "import nltk\n",
    "nltk.download('stopwords', quiet=True)\n",
    "nltk.download('wordnet', quiet=True)\n",
    "from nltk.corpus import stopwords\n",
    "from nltk.stem import WordNetLemmatizer\n",
    "import re\n",
    "import csv\n",
    "from sklearn.feature_extraction.text import TfidfVectorizer\n",
    "import pickle as pkl"
   ]
  },
  {
   "cell_type": "code",
   "execution_count": 7,
   "metadata": {},
   "outputs": [],
   "source": [
    "class DataTransformation:\n",
    "    def __init__(self, config: DataTransformationConfig):\n",
    "        self.config = config\n",
    "\n",
    "    def target_encode(self):\n",
    "        df = pd.read_csv(self.config.data_path, delimiter=self.config.delimiter)\n",
    "\n",
    "        df.replace(to_replace =\"surprise\", value =1, inplace=True)\n",
    "        df.replace(to_replace =\"love\", value =1, inplace=True)\n",
    "        df.replace(to_replace =\"joy\", value =1, inplace=True)\n",
    "        df.replace(to_replace =\"fear\", value =0, inplace=True)\n",
    "        df.replace(to_replace =\"anger\", value =0, inplace=True)\n",
    "        df.replace(to_replace =\"sadness\", value =0, inplace=True)\n",
    "\n",
    "        df.to_csv(os.path.join(self.config.root_dir, self.config.target_col_encoded_file),index=False)\n",
    "\n",
    "        logger.info(\"encoded the target\")\n",
    "        logger.info(\"surprise, love, joy ---> 1\")\n",
    "        logger.info(\"fear, anger, sadness ---> 0\")\n",
    "\n",
    "\n",
    "\n",
    "\n",
    "    def clean_text_data(self):\n",
    "        try:\n",
    "            data = pd.read_csv(os.path.join(self.config.root_dir, self.confi.target_col_encoded_file))\n",
    "            logger.info(\"using the target column encoded df for splitting\")\n",
    "        except Exception as e:\n",
    "            data = pd.read_csv(self.config.data_path, delimiter=self.config.delimiter)\n",
    "            logger.info(f\"exception {e} found when access the target column encoded df\")\n",
    "            logger.info(f\"using the {self.config.data_path} file for splitting\")\n",
    "\n",
    "        logger.info(\"cleaning corpus started\")\n",
    "\n",
    "        lm  = WordNetLemmatizer()\n",
    "        corpus = []\n",
    "        df_col = data['text']\n",
    "        for i in df_col:\n",
    "            new_item = re.sub('[^a-zA-Z]', ' ', str(i)) # taking only characters\n",
    "            new_item = new_item.lower()   # lowering the text\n",
    "            new_item = new_item.split()   # splitting the text into words\n",
    "            # lemmatize with remove stop words\n",
    "            new_item = [lm.lemmatize(word) for word in new_item if word not in set(stopwords.words('english'))]\n",
    "            corpus.append(' '.join(str(x) for x in new_item)) # back to sentence\n",
    "\n",
    "        with open(os.path.join(self.config.root_dir, self.config.text_corpus_name), 'w', newline='') as f:\n",
    "            writer = csv.writer(f)\n",
    "            for i in corpus:\n",
    "                writer.writerow([i])\n",
    "        \n",
    "        logger.info(f\"Saved text corpus {self.config.text_corpus_name}\")\n",
    "\n",
    "\n",
    "\n",
    "\n",
    "    def transform_text(self):\n",
    "        # access the clean df\n",
    "        try:\n",
    "            corpus = pd.read_csv(os.path.join(self.config.root_dir, self.config.text_corpus_name), names=['text'], header=None)\n",
    "            logger.info(\"using the cleaned text corpus for vectorizing\")\n",
    "        except Exception as e:\n",
    "            corpus = pd.read_csv(self.config.data_path, delimiter=self.config.delimiter)\n",
    "            corpus.drop(['label'], axis=1, inplace=True)\n",
    "            logger.info(f\"exception {e} found when access the cleaned text df\")\n",
    "            logger.info(f\"using the {self.config.data_path} file for vectorizing\")\n",
    "\n",
    "        transformer = TfidfVectorizer()\n",
    "        tfidf_matrix = transformer.fit_transform(corpus['text'])\n",
    "\n",
    "        # Save the TF-IDF vectorizer to a file using pickle\n",
    "        with open(os.path.join(self.config.root_dir, self.config.vectorizer_name), 'wb') as file:\n",
    "            pkl.dump(transformer, file)\n",
    "\n",
    "        # Save the vocabulary separately\n",
    "        with open(os.path.join(self.config.root_dir, self.config.vocabulary_name), 'wb') as file:\n",
    "            pkl.dump(transformer.vocabulary_, file)\n",
    "\n",
    "        logger.info(f\"saved the tfidf transformer with {len(transformer.vocabulary_)} words of vocabulary\")\n",
    "\n",
    "\n",
    "\n",
    "\n",
    "    def train_test_spliting(self):\n",
    "        # access hte target col encoded df\n",
    "        try:\n",
    "            data = pd.read_csv(os.path.join(self.config.root_dir, self.config.target_col_encoded_file))\n",
    "            logger.info(f\"using the {self.config.target_col_encoded_file} for splitting\")\n",
    "        except Exception as e:\n",
    "            data = pd.read_csv(self.config.data_path, delimiter=self.config.delimiter)\n",
    "            logger.info(f\"exception {e} found when access the target column encoded df\")\n",
    "            logger.info(f\"using the {self.config.data_path} file for splitting\")\n",
    "\n",
    "        # access the clean df\n",
    "        try:\n",
    "            corpus = pd.read_csv(os.path.join(self.config.root_dir, self.config.text_corpus_name), names=['text'], header=None)\n",
    "            logger.info(\"using the cleaned text corpus for splitting\")\n",
    "        except Exception as e:\n",
    "            corpus = pd.read_csv(self.config.data_path, delimiter=self.config.delimiter)\n",
    "            corpus.drop(['label'], axis=1, inplace=True)\n",
    "            logger.info(f\"exception {e} found when access the cleaned text df\")\n",
    "            logger.info(f\"using the {self.config.data_path} file for splitting\")\n",
    "\n",
    "        # Split the data into training and test sets. (0.75, 0.25) split.\n",
    "        X_train, X_test, y_train, y_test = train_test_split(corpus, data['label'], test_size=self.config.test_size)\n",
    "        \n",
    "        train = pd.concat([X_train, y_train], axis=1)\n",
    "        test = pd.concat([X_test, y_test], axis=1)\n",
    "\n",
    "        train.to_csv(os.path.join(self.config.root_dir, \"train.csv\"),index = False)\n",
    "        test.to_csv(os.path.join(self.config.root_dir, \"test.csv\"),index = False)\n",
    "\n",
    "        logger.info(\"Splited data into training and test sets\")\n",
    "        logger.info(train.shape)\n",
    "        logger.info(test.shape)"
   ]
  },
  {
   "cell_type": "code",
   "execution_count": 8,
   "metadata": {},
   "outputs": [
    {
     "name": "stdout",
     "output_type": "stream",
     "text": [
      "[2023-12-09 15:19:06,290: INFO: common: yaml file: config/config.yaml loaded successfully]\n",
      "[2023-12-09 15:19:06,291: INFO: common: yaml file: params.yaml loaded successfully]\n",
      "[2023-12-09 15:19:06,293: INFO: common: yaml file: schema.yaml loaded successfully]\n",
      "[2023-12-09 15:19:06,293: INFO: common: created directory at: artifacts]\n",
      "[2023-12-09 15:19:06,294: INFO: common: created directory at: artifacts/data_transformation]\n",
      "[2023-12-09 15:19:06,365: INFO: 2794344611: encoded the target]\n",
      "[2023-12-09 15:19:06,365: INFO: 2794344611: surprise, love, joy ---> 1]\n",
      "[2023-12-09 15:19:06,366: INFO: 2794344611: fear, anger, sadness ---> 0]\n",
      "[2023-12-09 15:19:06,388: INFO: 2794344611: exception 'DataTransformation' object has no attribute 'confi' found when access the target column encoded df]\n",
      "[2023-12-09 15:19:06,389: INFO: 2794344611: using the artifacts/data_ingestion/sentiment_data/train.txt file for splitting]\n",
      "[2023-12-09 15:19:06,389: INFO: 2794344611: cleaning corpus started]\n",
      "[2023-12-09 15:19:28,358: INFO: 2794344611: Saved text corpus text_corpus.csv]\n",
      "[2023-12-09 15:19:28,397: INFO: 2794344611: using the cleaned text corpus for vectorizing]\n",
      "[2023-12-09 15:19:28,663: INFO: 2794344611: saved the tfidf transformer with 14295 words of vocabulary]\n",
      "[2023-12-09 15:19:28,692: INFO: 2794344611: using the target_col_encoded_df.csv for splitting]\n",
      "[2023-12-09 15:19:28,717: INFO: 2794344611: using the cleaned text corpus for splitting]\n",
      "[2023-12-09 15:19:28,749: INFO: 2794344611: Splited data into training and test sets]\n",
      "[2023-12-09 15:19:28,750: INFO: 2794344611: (16200, 2)]\n",
      "[2023-12-09 15:19:28,751: INFO: 2794344611: (1800, 2)]\n"
     ]
    }
   ],
   "source": [
    "try:\n",
    "    config = ConfigurationManager()\n",
    "    data_transformation_config = config.get_data_transformation_config()\n",
    "    data_transformation = DataTransformation(config=data_transformation_config)\n",
    "    data_transformation.target_encode()\n",
    "    data_transformation.clean_text_data()\n",
    "    data_transformation.transform_text()\n",
    "    data_transformation.train_test_spliting()\n",
    "except Exception as e:\n",
    "    raise e"
   ]
  },
  {
   "cell_type": "code",
   "execution_count": null,
   "metadata": {},
   "outputs": [],
   "source": []
  }
 ],
 "metadata": {
  "kernelspec": {
   "display_name": "SentimentAnalysis",
   "language": "python",
   "name": "python3"
  },
  "language_info": {
   "codemirror_mode": {
    "name": "ipython",
    "version": 3
   },
   "file_extension": ".py",
   "mimetype": "text/x-python",
   "name": "python",
   "nbconvert_exporter": "python",
   "pygments_lexer": "ipython3",
   "version": "3.10.13"
  }
 },
 "nbformat": 4,
 "nbformat_minor": 2
}
