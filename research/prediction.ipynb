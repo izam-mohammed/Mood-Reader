{
 "cells": [
  {
   "cell_type": "code",
   "execution_count": 1,
   "metadata": {},
   "outputs": [
    {
     "data": {
      "text/plain": [
       "'/home/izam/coding/Sentiment-Analysis'"
      ]
     },
     "execution_count": 1,
     "metadata": {},
     "output_type": "execute_result"
    }
   ],
   "source": [
    "import os\n",
    "os.chdir('../')\n",
    "%pwd"
   ]
  },
  {
   "cell_type": "code",
   "execution_count": 2,
   "metadata": {},
   "outputs": [],
   "source": [
    "from dataclasses import dataclass\n",
    "from pathlib import Path\n",
    "\n",
    "@dataclass(frozen=True)\n",
    "class PredictionConfig:\n",
    "    root_dir: str\n",
    "    model_path: str\n",
    "    vectorizer_path: str\n",
    "    data_path: str\n",
    "    prediction_file: str"
   ]
  },
  {
   "cell_type": "code",
   "execution_count": 3,
   "metadata": {},
   "outputs": [],
   "source": [
    "from sentimentAnalysis.constants import *\n",
    "from sentimentAnalysis.utils.common import read_yaml, create_directories, load_pickle, read_text"
   ]
  },
  {
   "cell_type": "code",
   "execution_count": 4,
   "metadata": {},
   "outputs": [],
   "source": [
    "class ConfigurationManager:\n",
    "    def __init__(\n",
    "        self,\n",
    "        config_filepath = CONFIG_FILE_PATH,\n",
    "        params_filepath = PARAMS_FILE_PATH,\n",
    "        schema_filepath = SCHEMA_FILE_PATH):\n",
    "\n",
    "        self.config = read_yaml(config_filepath)\n",
    "        self.params = read_yaml(params_filepath)\n",
    "        self.schema = read_yaml(schema_filepath)\n",
    "\n",
    "        create_directories([self.config.artifacts_root])\n",
    "\n",
    "    \n",
    "    def get_prediction_config(self) -> PredictionConfig:\n",
    "        config = self.config.prediction\n",
    "\n",
    "        create_directories([config.root_dir])\n",
    "\n",
    "        prediction_config = PredictionConfig(\n",
    "            root_dir = config.root_dir,\n",
    "            model_path= config.model_path,\n",
    "            vectorizer_path=config.vectorizer_path,\n",
    "            data_path=config.data_path,\n",
    "            prediction_file=config.prediction_file,\n",
    "           \n",
    "        )\n",
    "\n",
    "        return prediction_config"
   ]
  },
  {
   "cell_type": "code",
   "execution_count": 5,
   "metadata": {},
   "outputs": [],
   "source": [
    "import numpy as np\n",
    "from sentimentAnalysis import logger\n",
    "from sentimentAnalysis.utils.common import read_text, load_pickle, save_json\n",
    "import json"
   ]
  },
  {
   "cell_type": "code",
   "execution_count": 6,
   "metadata": {},
   "outputs": [],
   "source": [
    "class Prediction:\n",
    "    def __init__(self, config: PredictionConfig):\n",
    "        self.config = config\n",
    "\n",
    "    def predict(self):\n",
    "        model = load_pickle(Path(self.config.model_path))\n",
    "        vectorizer = load_pickle(Path(self.config.vectorizer_path))\n",
    "        data = read_text(path=Path(self.config.data_path))\n",
    "        data = np.array(data)[:, 0]\n",
    "\n",
    "        print(data)\n",
    "        \n",
    "        matrix = vectorizer.transform(data)\n",
    "        prediction = model.predict(matrix)\n",
    "        logger.info(f\"predicted the new data as {prediction[0]}\")\n",
    "\n",
    "\n",
    "        save_json(path=self.config.prediction_file, data={'prediction':float(prediction[0])})\n",
    "        \n",
    "        "
   ]
  },
  {
   "cell_type": "code",
   "execution_count": 7,
   "metadata": {},
   "outputs": [
    {
     "name": "stdout",
     "output_type": "stream",
     "text": [
      "[2023-12-10 00:40:13,962: INFO: common: yaml file: config/config.yaml loaded successfully]\n",
      "[2023-12-10 00:40:13,964: INFO: common: yaml file: params.yaml loaded successfully]\n",
      "[2023-12-10 00:40:13,965: INFO: common: yaml file: schema.yaml loaded successfully]\n",
      "[2023-12-10 00:40:13,966: INFO: common: created directory at: artifacts]\n",
      "[2023-12-10 00:40:13,966: INFO: common: created directory at: artifacts/prediction]\n",
      "[2023-12-10 00:40:14,207: INFO: common: pickle file loaded from: artifacts/model_trainer/model.pkl]\n",
      "[2023-12-10 00:40:14,215: INFO: common: pickle file loaded from: artifacts/data_transformation/tfidf_vectorizer.pkl]\n",
      "['you are bad']\n",
      "[2023-12-10 00:40:14,217: INFO: 2887407288: predicted the new data as 0]\n",
      "[2023-12-10 00:40:14,217: INFO: common: json file saved at: artifacts/prediction/prediction.json]\n"
     ]
    }
   ],
   "source": [
    "try:\n",
    "    config = ConfigurationManager()\n",
    "    prediction_config = config.get_prediction_config()\n",
    "    prediction_config = Prediction(config=prediction_config)\n",
    "    prediction_config.predict()\n",
    "except Exception as e:\n",
    "    raise e"
   ]
  },
  {
   "cell_type": "code",
   "execution_count": null,
   "metadata": {},
   "outputs": [],
   "source": []
  }
 ],
 "metadata": {
  "kernelspec": {
   "display_name": "SentimentAnalysis",
   "language": "python",
   "name": "python3"
  },
  "language_info": {
   "codemirror_mode": {
    "name": "ipython",
    "version": 3
   },
   "file_extension": ".py",
   "mimetype": "text/x-python",
   "name": "python",
   "nbconvert_exporter": "python",
   "pygments_lexer": "ipython3",
   "version": "3.10.13"
  }
 },
 "nbformat": 4,
 "nbformat_minor": 2
}
