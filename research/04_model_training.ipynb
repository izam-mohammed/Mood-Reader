{
 "cells": [
  {
   "cell_type": "code",
   "execution_count": 1,
   "metadata": {},
   "outputs": [
    {
     "data": {
      "text/plain": [
       "'/home/izam/coding/Sentiment-Analysis/research'"
      ]
     },
     "execution_count": 1,
     "metadata": {},
     "output_type": "execute_result"
    }
   ],
   "source": [
    "import os\n",
    "%pwd"
   ]
  },
  {
   "cell_type": "code",
   "execution_count": 2,
   "metadata": {},
   "outputs": [
    {
     "data": {
      "text/plain": [
       "'/home/izam/coding/Sentiment-Analysis'"
      ]
     },
     "execution_count": 2,
     "metadata": {},
     "output_type": "execute_result"
    }
   ],
   "source": [
    "os.chdir(\"../\")\n",
    "%pwd"
   ]
  },
  {
   "cell_type": "code",
   "execution_count": 3,
   "metadata": {},
   "outputs": [],
   "source": [
    "from dataclasses import dataclass\n",
    "from pathlib import Path\n",
    "\n",
    "# entity\n",
    "@dataclass(frozen=True)\n",
    "class ModelTrainerConfig:\n",
    "    root_dir: Path\n",
    "    train_data_path: Path\n",
    "    test_data_path: Path\n",
    "    model_name: str\n",
    "    model_params: dict\n",
    "    target_column: str\n",
    "    vectorizer_path: str\n",
    "    vocabulary_path: str"
   ]
  },
  {
   "cell_type": "code",
   "execution_count": 4,
   "metadata": {},
   "outputs": [],
   "source": [
    "from sentimentAnalysis.constants import *\n",
    "from sentimentAnalysis.utils.common import read_yaml, create_directories"
   ]
  },
  {
   "cell_type": "code",
   "execution_count": 5,
   "metadata": {},
   "outputs": [],
   "source": [
    "class ConfigurationManager:\n",
    "    def __init__(\n",
    "        self,\n",
    "        config_filepath = CONFIG_FILE_PATH,\n",
    "        params_filepath = PARAMS_FILE_PATH,\n",
    "        schema_filepath = SCHEMA_FILE_PATH):\n",
    "\n",
    "        self.config = read_yaml(config_filepath)\n",
    "        self.params = read_yaml(params_filepath)\n",
    "        self.schema = read_yaml(schema_filepath)\n",
    "\n",
    "        create_directories([self.config.artifacts_root])\n",
    "\n",
    "\n",
    "    def get_model_trainer_config(self) -> ModelTrainerConfig:\n",
    "        config = self.config.model_trainer\n",
    "        params = self.params\n",
    "        schema =  self.schema.TARGET_COLUMN\n",
    "\n",
    "        create_directories([config.root_dir])\n",
    "\n",
    "        model_trainer_config = ModelTrainerConfig(\n",
    "            root_dir=config.root_dir,\n",
    "            train_data_path = config.train_data_path,\n",
    "            test_data_path = config.test_data_path,\n",
    "            model_name = config.model_name,\n",
    "            model_params = params.MultinomialNB,\n",
    "            target_column = schema.name,\n",
    "            vectorizer_path=config.vectorizer_path,\n",
    "            vocabulary_path=config.vocabulary_path,\n",
    "            \n",
    "        )\n",
    "\n",
    "        return model_trainer_config"
   ]
  },
  {
   "cell_type": "code",
   "execution_count": 6,
   "metadata": {},
   "outputs": [],
   "source": [
    "import pandas as pd\n",
    "import os\n",
    "from sentimentAnalysis import logger\n",
    "from sklearn.naive_bayes import MultinomialNB\n",
    "from sklearn.model_selection import GridSearchCV\n",
    "import joblib\n",
    "from sentimentAnalysis.utils.common import load_pickle, save_pickle"
   ]
  },
  {
   "cell_type": "code",
   "execution_count": 7,
   "metadata": {},
   "outputs": [],
   "source": [
    "class ModelTrainer:\n",
    "    def __init__(self, config: ModelTrainerConfig):\n",
    "        self.config = config\n",
    "\n",
    "    \n",
    "    def train(self):\n",
    "        train_data = pd.read_csv(self.config.train_data_path)\n",
    "        test_data = pd.read_csv(self.config.test_data_path)\n",
    "\n",
    "\n",
    "        X_train = train_data.drop([self.config.target_column], axis=1)\n",
    "        X_test = test_data.drop([self.config.target_column], axis=1)\n",
    "        y_train = train_data[self.config.target_column]\n",
    "        y_test = test_data[self.config.target_column]\n",
    "        print(self.config.vocabulary_path)\n",
    "        vocabulary = load_pickle(path = Path(self.config.vocabulary_path))\n",
    "        vectorizer = load_pickle(path =  Path(self.config.vectorizer_path))\n",
    "        vectorizer.vocabulary_ = vocabulary\n",
    "\n",
    "        X_train = vectorizer.transform(X_train['text'])\n",
    "\n",
    "        logger.info(f\"Transformed the X_train and X_test, new shape of X_train - {X_train.shape}\")\n",
    "\n",
    "        grid_search =  GridSearchCV(MultinomialNB(), self.config.model_params ,cv=5,return_train_score=True,n_jobs=-1)\n",
    "\n",
    "        grid_search.fit(X_train,y_train)\n",
    "        logger.info(f\"found best mode at {grid_search.best_params_}\")\n",
    "        \n",
    "        model = grid_search.best_estimator_\n",
    "\n",
    "        save_pickle(path= Path(os.path.join(self.config.root_dir, self.config.model_name)), data=model)"
   ]
  },
  {
   "cell_type": "code",
   "execution_count": 8,
   "metadata": {},
   "outputs": [
    {
     "name": "stdout",
     "output_type": "stream",
     "text": [
      "[2023-12-09 19:17:03,216: INFO: common: yaml file: config/config.yaml loaded successfully]\n",
      "[2023-12-09 19:17:03,219: INFO: common: yaml file: params.yaml loaded successfully]\n",
      "[2023-12-09 19:17:03,220: INFO: common: yaml file: schema.yaml loaded successfully]\n",
      "[2023-12-09 19:17:03,221: INFO: common: created directory at: artifacts]\n",
      "[2023-12-09 19:17:03,221: INFO: common: created directory at: artifacts/model_trainer]\n",
      "artifacts/data_transformation/vocabulary.pkl\n",
      "[2023-12-09 19:17:03,243: INFO: common: pickle file loaded from: artifacts/data_transformation/vocabulary.pkl]\n",
      "[2023-12-09 19:17:03,252: INFO: common: pickle file loaded from: artifacts/data_transformation/tfidf_vectorizer.pkl]\n",
      "[2023-12-09 19:17:03,370: INFO: 554699130: Transformed the X_train and X_test, new shape of X_train - (16200, 14295), X_test - (1800, 14295)]\n",
      "[2023-12-09 19:17:05,572: INFO: 554699130: found best mode at {'fit_prior': False}]\n",
      "[2023-12-09 19:17:05,575: INFO: common: pickle file saved at: artifacts/model_trainer/model.pkl]\n"
     ]
    }
   ],
   "source": [
    "try:\n",
    "    config = ConfigurationManager()\n",
    "    model_trainer_config = config.get_model_trainer_config()\n",
    "    model_trainer_config = ModelTrainer(config=model_trainer_config)\n",
    "    model_trainer_config.train()\n",
    "except Exception as e:\n",
    "    raise e"
   ]
  }
 ],
 "metadata": {
  "kernelspec": {
   "display_name": "SentimentAnalysis",
   "language": "python",
   "name": "python3"
  },
  "language_info": {
   "codemirror_mode": {
    "name": "ipython",
    "version": 3
   },
   "file_extension": ".py",
   "mimetype": "text/x-python",
   "name": "python",
   "nbconvert_exporter": "python",
   "pygments_lexer": "ipython3",
   "version": "3.10.13"
  }
 },
 "nbformat": 4,
 "nbformat_minor": 2
}
