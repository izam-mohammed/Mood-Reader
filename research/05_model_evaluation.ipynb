{
 "cells": [
  {
   "cell_type": "code",
   "execution_count": 1,
   "metadata": {},
   "outputs": [
    {
     "data": {
      "text/plain": [
       "'/home/izam/coding/Sentiment-Analysis/research'"
      ]
     },
     "execution_count": 1,
     "metadata": {},
     "output_type": "execute_result"
    }
   ],
   "source": [
    "import os\n",
    "%pwd"
   ]
  },
  {
   "cell_type": "code",
   "execution_count": 2,
   "metadata": {},
   "outputs": [
    {
     "data": {
      "text/plain": [
       "'/home/izam/coding/Sentiment-Analysis'"
      ]
     },
     "execution_count": 2,
     "metadata": {},
     "output_type": "execute_result"
    }
   ],
   "source": [
    "os.chdir('../')\n",
    "%pwd"
   ]
  },
  {
   "cell_type": "code",
   "execution_count": 3,
   "metadata": {},
   "outputs": [],
   "source": [
    "# entity\n",
    "from dataclasses import dataclass\n",
    "from pathlib import Path\n",
    "\n",
    "\n",
    "@dataclass(frozen=True)\n",
    "class ModelEvaluationConfig:\n",
    "    root_dir: Path\n",
    "    test_data_path: Path\n",
    "    model_path: Path\n",
    "    metric_file_name: Path\n",
    "    target_column: str\n",
    "    vectorizer_path: str"
   ]
  },
  {
   "cell_type": "code",
   "execution_count": 4,
   "metadata": {},
   "outputs": [],
   "source": [
    "from sentimentAnalysis.constants import *\n",
    "from sentimentAnalysis.utils.common import read_yaml, create_directories, save_json"
   ]
  },
  {
   "cell_type": "code",
   "execution_count": 5,
   "metadata": {},
   "outputs": [],
   "source": [
    "class ConfigurationManager:\n",
    "    def __init__(\n",
    "        self,\n",
    "        config_filepath = CONFIG_FILE_PATH,\n",
    "        params_filepath = PARAMS_FILE_PATH,\n",
    "        schema_filepath = SCHEMA_FILE_PATH):\n",
    "\n",
    "        self.config = read_yaml(config_filepath)\n",
    "        self.params = read_yaml(params_filepath)\n",
    "        self.schema = read_yaml(schema_filepath)\n",
    "\n",
    "        create_directories([self.config.artifacts_root])\n",
    "\n",
    "    \n",
    "    def get_model_evaluation_config(self) -> ModelEvaluationConfig:\n",
    "        config = self.config.model_evaluation\n",
    "        schema =  self.schema.TARGET_COLUMN\n",
    "\n",
    "        create_directories([config.root_dir])\n",
    "\n",
    "        model_evaluation_config = ModelEvaluationConfig(\n",
    "            root_dir=config.root_dir,\n",
    "            test_data_path=config.test_data_path,\n",
    "            model_path = config.model_path,\n",
    "            metric_file_name = config.metric_file_name,\n",
    "            target_column = schema.name,\n",
    "            vectorizer_path = config.vectorizer_path,\n",
    "           \n",
    "        )\n",
    "\n",
    "        return model_evaluation_config"
   ]
  },
  {
   "cell_type": "code",
   "execution_count": 6,
   "metadata": {},
   "outputs": [],
   "source": [
    "import os\n",
    "import pandas as pd\n",
    "from sklearn.metrics import accuracy_score, precision_score, recall_score, f1_score\n",
    "from sentimentAnalysis.utils.common import load_pickle, save_json, round_batch\n",
    "from sentimentAnalysis import logger"
   ]
  },
  {
   "cell_type": "code",
   "execution_count": 7,
   "metadata": {},
   "outputs": [],
   "source": [
    "class ModelEvaluation:\n",
    "    def __init__(self, config: ModelEvaluationConfig):\n",
    "        self.config = config\n",
    "    \n",
    "\n",
    "    def _eval_metrics(self,actual, pred):\n",
    "        acc = accuracy_score(actual, pred)\n",
    "        precision = precision_score(actual, pred)\n",
    "        recall = recall_score(actual, pred)\n",
    "        f1 = f1_score(actual, pred)\n",
    "\n",
    "        return round_batch(acc, precision, recall, f1)\n",
    "\n",
    "    def evaluate(self):\n",
    "        df = pd.read_csv(self.config.test_data_path)\n",
    "        X = df.drop([self.config.target_column], axis=1).iloc[:, 0]\n",
    "        y = df[self.config.target_column]\n",
    "\n",
    "        vectorizer = load_pickle(path=Path(self.config.vectorizer_path))\n",
    "        matrix = vectorizer.transform(X)\n",
    "\n",
    "        model = load_pickle(path=Path(self.config.model_path))\n",
    "        pred = model.predict(matrix)\n",
    "\n",
    "        logger.info(f\"predicted {pred.shape[0]} data points\")\n",
    "    \n",
    "        acc, precision, recall, f1 = self._eval_metrics(y, pred)\n",
    "\n",
    "        metric = {\n",
    "            \"Accuracy\" : acc,\n",
    "            \"Precision\" : precision,\n",
    "            \"Recall\": recall,\n",
    "            \"F1 score\": f1,\n",
    "        }\n",
    "\n",
    "        logger.info(f\"metrics are - {metric}\")\n",
    "\n",
    "        save_json(path=Path(self.config.metric_file_name), data=metric)"
   ]
  },
  {
   "cell_type": "code",
   "execution_count": 8,
   "metadata": {},
   "outputs": [
    {
     "name": "stdout",
     "output_type": "stream",
     "text": [
      "[2023-12-09 21:29:19,980: INFO: common: yaml file: config/config.yaml loaded successfully]\n",
      "[2023-12-09 21:29:19,981: INFO: common: yaml file: params.yaml loaded successfully]\n",
      "[2023-12-09 21:29:19,983: INFO: common: yaml file: schema.yaml loaded successfully]\n",
      "[2023-12-09 21:29:19,984: INFO: common: created directory at: artifacts]\n",
      "[2023-12-09 21:29:19,984: INFO: common: created directory at: artifacts/model_evaluation]\n",
      "[2023-12-09 21:29:19,995: INFO: common: pickle file loaded from: artifacts/data_transformation/tfidf_vectorizer.pkl]\n",
      "[2023-12-09 21:29:20,008: INFO: common: pickle file loaded from: artifacts/model_trainer/model.pkl]\n",
      "[2023-12-09 21:29:20,009: INFO: 1027808873: predicted 1800 data points]\n",
      "[2023-12-09 21:29:20,013: INFO: 1027808873: metrics are - {'Accuracy': 0.93, 'Precision': 0.94, 'Recall': 0.91, 'F1 score': 0.93}]\n",
      "[2023-12-09 21:29:20,014: INFO: common: json file saved at: artifacts/model_evaluation/metrics.json]\n"
     ]
    }
   ],
   "source": [
    "try:\n",
    "    config = ConfigurationManager()\n",
    "    get_model_evaluation_config = config.get_model_evaluation_config()\n",
    "    get_model_evaluation_config = ModelEvaluation(config=get_model_evaluation_config)\n",
    "    get_model_evaluation_config.evaluate()\n",
    "except Exception as e:\n",
    "    raise e"
   ]
  },
  {
   "cell_type": "code",
   "execution_count": null,
   "metadata": {},
   "outputs": [],
   "source": []
  }
 ],
 "metadata": {
  "kernelspec": {
   "display_name": "SentimentAnalysis",
   "language": "python",
   "name": "python3"
  },
  "language_info": {
   "codemirror_mode": {
    "name": "ipython",
    "version": 3
   },
   "file_extension": ".py",
   "mimetype": "text/x-python",
   "name": "python",
   "nbconvert_exporter": "python",
   "pygments_lexer": "ipython3",
   "version": "3.10.13"
  }
 },
 "nbformat": 4,
 "nbformat_minor": 2
}
